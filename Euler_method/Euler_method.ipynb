{
 "cells": [
  {
   "cell_type": "code",
   "execution_count": 93,
   "metadata": {},
   "outputs": [],
   "source": [
    "import numpy as np\n",
    "import pandas as pd\n",
    "import matplotlib.pyplot as plt"
   ]
  },
  {
   "cell_type": "markdown",
   "metadata": {},
   "source": [
    "Key Terms: \n",
    "* differential\n",
    "* tangent line \n",
    "* initial condition \n"
   ]
  },
  {
   "cell_type": "code",
   "execution_count": 94,
   "metadata": {},
   "outputs": [],
   "source": [
    "# dy / dt = exp(t^2)\n",
    "def differential_et2(t:float, y:float) -> float:\n",
    "    \"\"\"Returns the slop at (t,y) for dy/dt = exp(t^2)\"\"\"\n",
    "    return np.exp(t**2)\n",
    "\n",
    "# initial conditions\n",
    "x_0 = 1.0\n",
    "t_0 = 0.0 "
   ]
  },
  {
   "cell_type": "code",
   "execution_count": 95,
   "metadata": {},
   "outputs": [],
   "source": [
    "# Dt (time step)\n",
    "Dt = 0.5 # half a second\n",
    "\n",
    "# after one step \n",
    "x_1 = x_0 + Dt * differential_et2(t_0, x_0)\n",
    "t_1 = t_0 + Dt\n",
    "\n",
    "# after two steps \n",
    "x_2 = x_1 + Dt * differential_et2(t_1, x_1)\n",
    "t_2 = t_1 + Dt\n",
    "\n",
    "# after three steps\n",
    "x_3 = x_2 + Dt * differential_et2(t_2, x_2)\n",
    "t_3 = t_2 + Dt"
   ]
  },
  {
   "cell_type": "code",
   "execution_count": 96,
   "metadata": {},
   "outputs": [
    {
     "name": "stdout",
     "output_type": "stream",
     "text": [
      "(t_0, x_0) = (0.0, 1.0)\n",
      "(t_1, x_1) = (0.5, 1.5)\n",
      "(t_2, x_2) = (1.0, 2.142012708343871)\n",
      "(t_3, x_3) = (1.5, 3.5011536225733932)\n"
     ]
    }
   ],
   "source": [
    "print(f\"(t_0, x_0) = ({t_0}, {x_0})\")\n",
    "print(f\"(t_1, x_1) = ({t_1}, {x_1})\")\n",
    "print(f\"(t_2, x_2) = ({t_2}, {x_2})\")\n",
    "print(f\"(t_3, x_3) = ({t_3}, {x_3})\")"
   ]
  },
  {
   "cell_type": "code",
   "execution_count": 97,
   "metadata": {},
   "outputs": [],
   "source": [
    "def Eulers_step(t_i:float, x_i:float, Dt:float, diff_eq:callable) -> tuple:\n",
    "    \"\"\"Returns the next step of the Euler's method\"\"\"\n",
    "    x_next = x_i + Dt * diff_eq(t_i, x_i)\n",
    "    t_next = t_i + Dt\n",
    "    return (t_next, x_next)"
   ]
  },
  {
   "cell_type": "code",
   "execution_count": 98,
   "metadata": {},
   "outputs": [],
   "source": [
    "(t_1, x_1) = Eulers_step(t_0, x_0, Dt, differential_et2)\n",
    "(t_2, x_2) = Eulers_step(t_1, x_1, Dt, differential_et2)\n",
    "(t_3, x_3) = Eulers_step(t_2, x_2, Dt, differential_et2)"
   ]
  },
  {
   "cell_type": "code",
   "execution_count": 99,
   "metadata": {},
   "outputs": [
    {
     "name": "stdout",
     "output_type": "stream",
     "text": [
      "(t_0, x_0) = (0.0, 1.0)\n",
      "(t_1, x_1) = (0.5, 1.5)\n",
      "(t_2, x_2) = (1.0, 2.142012708343871)\n",
      "(t_3, x_3) = (1.5, 3.5011536225733932)\n"
     ]
    }
   ],
   "source": [
    "print(f\"(t_0, x_0) = ({t_0}, {x_0})\")\n",
    "print(f\"(t_1, x_1) = ({t_1}, {x_1})\")\n",
    "print(f\"(t_2, x_2) = ({t_2}, {x_2})\")\n",
    "print(f\"(t_3, x_3) = ({t_3}, {x_3})\")"
   ]
  },
  {
   "cell_type": "code",
   "execution_count": 100,
   "metadata": {},
   "outputs": [
    {
     "ename": "TypeError",
     "evalue": "list indices must be integers or slices, not type",
     "output_type": "error",
     "traceback": [
      "\u001b[0;31m---------------------------------------------------------------------------\u001b[0m",
      "\u001b[0;31mTypeError\u001b[0m                                 Traceback (most recent call last)",
      "Cell \u001b[0;32mIn[100], line 1\u001b[0m\n\u001b[0;32m----> 1\u001b[0m \u001b[38;5;28;01mdef\u001b[39;00m \u001b[38;5;21meuler_method\u001b[39m(t_i:\u001b[38;5;28mfloat\u001b[39m, x_i:\u001b[38;5;28mfloat\u001b[39m, Dt:\u001b[38;5;28mfloat\u001b[39m, diff_eq:\u001b[38;5;28mcallable\u001b[39m, n:\u001b[38;5;28mint\u001b[39m) \u001b[38;5;241m-\u001b[39m\u001b[38;5;241m>\u001b[39m \u001b[38;5;28mlist\u001b[39m[\u001b[38;5;28mtuple\u001b[39m]:\n\u001b[1;32m      2\u001b[0m \u001b[38;5;250m    \u001b[39m\u001b[38;5;124;03m\"\"\"Returns the n step calculation of the Euler's method\"\"\"\u001b[39;00m\n\u001b[1;32m      3\u001b[0m     steps \u001b[38;5;241m=\u001b[39m [(t_i, x_i)]\n",
      "\u001b[0;31mTypeError\u001b[0m: list indices must be integers or slices, not type"
     ]
    }
   ],
   "source": [
    "def euler_method(t_i:float, x_i:float, Dt:float, diff_eq:callable, n:int) -> list[tuple]:\n",
    "    \"\"\"Returns the n step calculation of the Euler's method\"\"\"\n",
    "    steps = [(t_i, x_i)]\n",
    "    for _ in range(n):\n",
    "        (t_i, x_i) = Eulers_step(t_i, x_i, Dt, diff_eq)\n",
    "        steps.append((t_i, x_i))\n",
    "    return steps"
   ]
  },
  {
   "cell_type": "code",
   "execution_count": null,
   "metadata": {},
   "outputs": [
    {
     "name": "stdout",
     "output_type": "stream",
     "text": [
      "[(0.0, 1.0), (0.25, 1.25), (0.5, 1.5161236147294648), (0.75, 1.8371299689014)]\n",
      "[(0.0, 1.0), (0.25, 1.25), (0.5, 1.5161236147294648), (0.75, 1.8371299689014)]\n",
      "[(0.0, 1.0), (0.25, 1.25), (0.5, 1.5161236147294648), (0.75, 1.8371299689014)]\n",
      "[(0.0, 1.0), (0.25, 1.25), (0.5, 1.5161236147294648), (0.75, 1.8371299689014)]\n"
     ]
    }
   ],
   "source": [
    "results = euler_method(t_0, x_0,0.25, differential_et2, 3)\n",
    "for result in results:\n",
    "    print(results)"
   ]
  },
  {
   "cell_type": "markdown",
   "metadata": {},
   "source": [
    "Precision is an issue with these numbers. Lots of digits suggest that our numbers are precise, But are they?"
   ]
  },
  {
   "cell_type": "code",
   "execution_count": null,
   "metadata": {},
   "outputs": [
    {
     "name": "stdout",
     "output_type": "stream",
     "text": [
      "[(0.0, 1.0), (0.25, 1.25), (0.5, 1.5161236147294648), (0.75, 1.8371299689014), (1.0, 2.2758936331414747), (1.25, 2.955464090256236), (1.5, 4.148147385748136)]\n",
      "[(0.0, 1.0), (0.25, 1.25), (0.5, 1.5161236147294648), (0.75, 1.8371299689014), (1.0, 2.2758936331414747), (1.25, 2.955464090256236), (1.5, 4.148147385748136)]\n",
      "[(0.0, 1.0), (0.25, 1.25), (0.5, 1.5161236147294648), (0.75, 1.8371299689014), (1.0, 2.2758936331414747), (1.25, 2.955464090256236), (1.5, 4.148147385748136)]\n",
      "[(0.0, 1.0), (0.25, 1.25), (0.5, 1.5161236147294648), (0.75, 1.8371299689014), (1.0, 2.2758936331414747), (1.25, 2.955464090256236), (1.5, 4.148147385748136)]\n",
      "[(0.0, 1.0), (0.25, 1.25), (0.5, 1.5161236147294648), (0.75, 1.8371299689014), (1.0, 2.2758936331414747), (1.25, 2.955464090256236), (1.5, 4.148147385748136)]\n",
      "[(0.0, 1.0), (0.25, 1.25), (0.5, 1.5161236147294648), (0.75, 1.8371299689014), (1.0, 2.2758936331414747), (1.25, 2.955464090256236), (1.5, 4.148147385748136)]\n",
      "[(0.0, 1.0), (0.25, 1.25), (0.5, 1.5161236147294648), (0.75, 1.8371299689014), (1.0, 2.2758936331414747), (1.25, 2.955464090256236), (1.5, 4.148147385748136)]\n"
     ]
    }
   ],
   "source": [
    "results = euler_method(t_0, x_0, 0.25, differential_et2, 6)\n",
    "for result in results:\n",
    "    print(results)"
   ]
  },
  {
   "cell_type": "markdown",
   "metadata": {},
   "source": [
    "These are computed using Linear approximation but the underlying function is not linear. So this process gives"
   ]
  },
  {
   "cell_type": "code",
   "execution_count": null,
   "metadata": {},
   "outputs": [
    {
     "name": "stdout",
     "output_type": "stream",
     "text": [
      "[(0.0, 1.0), (0.25, 1.25), (0.5, 1.5161236147294648), (0.75, 1.8371299689014), (1.0, 2.2758936331414747), (1.25, 2.955464090256236), (1.5, 4.148147385748136), (1.75, 6.520081344837768), (2.0, 11.865317034618604), (2.25, 25.514854542904665), (2.5, 65.01110091670154)]\n",
      "[(0.0, 1.0), (0.25, 1.25), (0.5, 1.5161236147294648), (0.75, 1.8371299689014), (1.0, 2.2758936331414747), (1.25, 2.955464090256236), (1.5, 4.148147385748136), (1.75, 6.520081344837768), (2.0, 11.865317034618604), (2.25, 25.514854542904665), (2.5, 65.01110091670154)]\n",
      "[(0.0, 1.0), (0.25, 1.25), (0.5, 1.5161236147294648), (0.75, 1.8371299689014), (1.0, 2.2758936331414747), (1.25, 2.955464090256236), (1.5, 4.148147385748136), (1.75, 6.520081344837768), (2.0, 11.865317034618604), (2.25, 25.514854542904665), (2.5, 65.01110091670154)]\n",
      "[(0.0, 1.0), (0.25, 1.25), (0.5, 1.5161236147294648), (0.75, 1.8371299689014), (1.0, 2.2758936331414747), (1.25, 2.955464090256236), (1.5, 4.148147385748136), (1.75, 6.520081344837768), (2.0, 11.865317034618604), (2.25, 25.514854542904665), (2.5, 65.01110091670154)]\n",
      "[(0.0, 1.0), (0.25, 1.25), (0.5, 1.5161236147294648), (0.75, 1.8371299689014), (1.0, 2.2758936331414747), (1.25, 2.955464090256236), (1.5, 4.148147385748136), (1.75, 6.520081344837768), (2.0, 11.865317034618604), (2.25, 25.514854542904665), (2.5, 65.01110091670154)]\n",
      "[(0.0, 1.0), (0.25, 1.25), (0.5, 1.5161236147294648), (0.75, 1.8371299689014), (1.0, 2.2758936331414747), (1.25, 2.955464090256236), (1.5, 4.148147385748136), (1.75, 6.520081344837768), (2.0, 11.865317034618604), (2.25, 25.514854542904665), (2.5, 65.01110091670154)]\n",
      "[(0.0, 1.0), (0.25, 1.25), (0.5, 1.5161236147294648), (0.75, 1.8371299689014), (1.0, 2.2758936331414747), (1.25, 2.955464090256236), (1.5, 4.148147385748136), (1.75, 6.520081344837768), (2.0, 11.865317034618604), (2.25, 25.514854542904665), (2.5, 65.01110091670154)]\n",
      "[(0.0, 1.0), (0.25, 1.25), (0.5, 1.5161236147294648), (0.75, 1.8371299689014), (1.0, 2.2758936331414747), (1.25, 2.955464090256236), (1.5, 4.148147385748136), (1.75, 6.520081344837768), (2.0, 11.865317034618604), (2.25, 25.514854542904665), (2.5, 65.01110091670154)]\n",
      "[(0.0, 1.0), (0.25, 1.25), (0.5, 1.5161236147294648), (0.75, 1.8371299689014), (1.0, 2.2758936331414747), (1.25, 2.955464090256236), (1.5, 4.148147385748136), (1.75, 6.520081344837768), (2.0, 11.865317034618604), (2.25, 25.514854542904665), (2.5, 65.01110091670154)]\n",
      "[(0.0, 1.0), (0.25, 1.25), (0.5, 1.5161236147294648), (0.75, 1.8371299689014), (1.0, 2.2758936331414747), (1.25, 2.955464090256236), (1.5, 4.148147385748136), (1.75, 6.520081344837768), (2.0, 11.865317034618604), (2.25, 25.514854542904665), (2.5, 65.01110091670154)]\n",
      "[(0.0, 1.0), (0.25, 1.25), (0.5, 1.5161236147294648), (0.75, 1.8371299689014), (1.0, 2.2758936331414747), (1.25, 2.955464090256236), (1.5, 4.148147385748136), (1.75, 6.520081344837768), (2.0, 11.865317034618604), (2.25, 25.514854542904665), (2.5, 65.01110091670154)]\n"
     ]
    }
   ],
   "source": [
    "results = euler_method(t_0, x_0, 0.25, differential_et2, 10)\n",
    "for result in results:\n",
    "    print(results)"
   ]
  },
  {
   "cell_type": "code",
   "execution_count": null,
   "metadata": {},
   "outputs": [
    {
     "ename": "SyntaxError",
     "evalue": "invalid syntax (901352997.py, line 6)",
     "output_type": "error",
     "traceback": [
      "\u001b[0;36m  Cell \u001b[0;32mIn[24], line 6\u001b[0;36m\u001b[0m\n\u001b[0;31m    delta =\u001b[0m\n\u001b[0m            ^\u001b[0m\n\u001b[0;31mSyntaxError\u001b[0m\u001b[0;31m:\u001b[0m invalid syntax\n"
     ]
    }
   ],
   "source": [
    "def Euler_with_error(t_0:float, x_0:float, h:float, diff_eq:callable, k:int) -> list[tuple]:\n",
    "    \"\"\"Returns the n step calculation of the Euler's method\"\"\"\n",
    "\n",
    "    results = euler_method(t_0, x_0, h, diff_eq, k)\n",
    "    T = results[-1][0]\n",
    "    delta = \n",
    "\n",
    "\n",
    "    "
   ]
  },
  {
   "cell_type": "code",
   "execution_count": null,
   "metadata": {},
   "outputs": [],
   "source": [
    "text = \"Hello World\"\n",
    "\n",
    "for Char in text:\n",
    "    if Char == \"aeiouAEIOU\":\n",
    "        print(Char)\n",
    "\n",
    "\n",
    "\n",
    "\n"
   ]
  }
 ],
 "metadata": {
  "kernelspec": {
   "display_name": "base",
   "language": "python",
   "name": "python3"
  },
  "language_info": {
   "codemirror_mode": {
    "name": "ipython",
    "version": 3
   },
   "file_extension": ".py",
   "mimetype": "text/x-python",
   "name": "python",
   "nbconvert_exporter": "python",
   "pygments_lexer": "ipython3",
   "version": "3.12.4"
  }
 },
 "nbformat": 4,
 "nbformat_minor": 2
}
